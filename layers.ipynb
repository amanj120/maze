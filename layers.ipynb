{
 "cells": [
  {
   "cell_type": "code",
   "execution_count": 2,
   "id": "c7bbbbd2",
   "metadata": {},
   "outputs": [],
   "source": [
    "def adj(nodea, nodeb):\n",
    "    return (abs(nodea[0] - nodeb[0]) + abs(nodea[1] - nodeb[1]) == 1)"
   ]
  },
  {
   "cell_type": "code",
   "execution_count": 3,
   "id": "cbf14ecc",
   "metadata": {},
   "outputs": [
    {
     "data": {
      "text/plain": [
       "(12, 16)"
      ]
     },
     "execution_count": 3,
     "metadata": {},
     "output_type": "execute_result"
    }
   ],
   "source": [
    "N = 2 # rows\n",
    "M = 6 # columns\n",
    "\n",
    "nodes = [(i,j) for i in range(N) for j in range(M)]\n",
    "edges = [(nodes[i], nodes[j]) for i in range(N*M) for j in range(i, N*M) if adj(nodes[i], nodes[j])]\n",
    "len(nodes), len(edges)"
   ]
  },
  {
   "cell_type": "code",
   "execution_count": 9,
   "id": "9a230656",
   "metadata": {},
   "outputs": [
    {
     "name": "stdout",
     "output_type": "stream",
     "text": [
      "[((0, 0), (0, 1)), ((0, 0), (1, 0)), ((0, 1), (0, 2)), ((0, 1), (1, 1)), ((0, 2), (0, 3)), ((0, 2), (1, 2)), ((0, 3), (0, 4)), ((0, 3), (1, 3)), ((0, 4), (0, 5)), ((0, 4), (1, 4)), ((0, 5), (1, 5)), ((1, 0), (1, 1)), ((1, 1), (1, 2)), ((1, 2), (1, 3)), ((1, 3), (1, 4)), ((1, 4), (1, 5))]\n",
      "[0, 1, 0, 1, 0, 1, 0, 1, 0, 1, 1, 2, 2, 2, 2, 2]\n",
      "{0, 1, 2}\n",
      "{0: [], 1: [], 2: []}\n",
      "{0: [((0, 0), (0, 1)), ((0, 1), (0, 2)), ((0, 2), (0, 3)), ((0, 3), (0, 4)), ((0, 4), (0, 5))], 1: [((0, 0), (1, 0)), ((0, 1), (1, 1)), ((0, 2), (1, 2)), ((0, 3), (1, 3)), ((0, 4), (1, 4)), ((0, 5), (1, 5))], 2: [((1, 0), (1, 1)), ((1, 1), (1, 2)), ((1, 2), (1, 3)), ((1, 3), (1, 4)), ((1, 4), (1, 5))]}\n"
     ]
    }
   ],
   "source": [
    "layer_labels = []\n",
    "\n",
    "for edge in edges:\n",
    "    layer_labels.append(edge[0][0] + edge[1][0])\n",
    "\n",
    "print(edges)\n",
    "print(layer_labels)\n",
    "\n",
    "keys = set(layer_labels)\n",
    "print(keys)\n",
    "layers = {key:list() for key in keys}\n",
    "print(layers)\n",
    "\n",
    "for idx, edge in enumerate(edges):\n",
    "    layers[layer_labels[idx]].append(edge)\n",
    "\n",
    "print(layers)\n",
    "\n"
   ]
  },
  {
   "cell_type": "code",
   "execution_count": null,
   "id": "78652023",
   "metadata": {},
   "outputs": [],
   "source": []
  }
 ],
 "metadata": {
  "kernelspec": {
   "display_name": "Python 3 (ipykernel)",
   "language": "python",
   "name": "python3"
  },
  "language_info": {
   "codemirror_mode": {
    "name": "ipython",
    "version": 3
   },
   "file_extension": ".py",
   "mimetype": "text/x-python",
   "name": "python",
   "nbconvert_exporter": "python",
   "pygments_lexer": "ipython3",
   "version": "3.9.7"
  }
 },
 "nbformat": 4,
 "nbformat_minor": 5
}
