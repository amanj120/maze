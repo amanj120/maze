{
 "cells": [
  {
   "cell_type": "code",
   "execution_count": 70,
   "id": "1928fcb8",
   "metadata": {},
   "outputs": [],
   "source": [
    "import matplotlib.pyplot as plt\n",
    "from time import sleep"
   ]
  },
  {
   "cell_type": "code",
   "execution_count": 65,
   "id": "e456a407",
   "metadata": {},
   "outputs": [],
   "source": [
    "f = open(\"5-mazes-final.txt\")\n",
    "r = f.readlines()\n",
    "f.close()\n",
    "mazes = [[int(rr) for rr in r[i].strip()[1:-1].split(\", \")] for i in range(len(r))]"
   ]
  },
  {
   "cell_type": "code",
   "execution_count": 27,
   "id": "ed2c92f1",
   "metadata": {},
   "outputs": [],
   "source": [
    "mids = [maze[6] for maze in mazes]"
   ]
  },
  {
   "cell_type": "code",
   "execution_count": 28,
   "id": "f57a711f",
   "metadata": {},
   "outputs": [
    {
     "data": {
      "text/plain": [
       "<BarContainer object of 64 artists>"
      ]
     },
     "execution_count": 28,
     "metadata": {},
     "output_type": "execute_result"
    },
    {
     "data": {
      "image/png": "[encoded data removed]",
      "text/plain": [
       "<Figure size 1440x720 with 1 Axes>"
      ]
     },
     "metadata": {
      "needs_background": "light"
     },
     "output_type": "display_data"
    }
   ],
   "source": [
    "plt.figure(figsize=(20,10))\n",
    "plt.bar(range(2**6), [mids.count(i) for i in range(2**6)])"
   ]
  },
  {
   "cell_type": "code",
   "execution_count": 33,
   "id": "40e2084f",
   "metadata": {},
   "outputs": [
    {
     "data": {
      "text/plain": [
       "[25, 118, 45, 59, 38, 39, 36, 48, 61, 65, 39, 122, 29]"
      ]
     },
     "execution_count": 33,
     "metadata": {},
     "output_type": "execute_result"
    }
   ],
   "source": [
    "mazes[0]"
   ]
  },
  {
   "cell_type": "code",
   "execution_count": 66,
   "id": "7550eb59",
   "metadata": {},
   "outputs": [],
   "source": [
    "def convert_maze(binrep):\n",
    "    N = (len(binrep) + 1)//2\n",
    "    wall_char = \"█\"\n",
    "    arr = [[wall_char for i in range(2*N - 1)] for j in range (2*N - 1)]\n",
    "    for i in range(0, 2*N - 1, 2):\n",
    "        for j in range(0, 2*N - 1, 2):\n",
    "            arr[i][j] = ' '\n",
    "            \n",
    "    for i,br in enumerate(binrep):\n",
    "        if i%2 == 0:\n",
    "            s = \"{:b}\".format(br).zfill(N-1)\n",
    "            for j in range(N-1):\n",
    "                if s[j] == '1':\n",
    "                    arr[i][2*j + 1] = ' '\n",
    "        else:\n",
    "            s = \"{:b}\".format(br).zfill(N)\n",
    "            for j in range(N):\n",
    "                if s[j] == '1':\n",
    "                    arr[i][2*j] = ' '\n",
    "    \n",
    "    stmp = (wall_char * (2*N + 1) + \"\\n\") + \"\\n\".join([wall_char + \"\".join(arri) + wall_char for arri in arr]) + (\"\\n\" + wall_char * (2*N + 1))\n",
    "    sarr = list(stmp)\n",
    "    sarr[2*N + 2] = \" \"\n",
    "    sarr[-1*(2*N + 3)] = \" \"\n",
    "    \n",
    "    return \"\".join(sarr)"
   ]
  },
  {
   "cell_type": "code",
   "execution_count": 71,
   "id": "57803ec4",
   "metadata": {},
   "outputs": [
    {
     "name": "stdout",
     "output_type": "stream",
     "text": [
      "[7, 29, 9, 8, 3, 31, 12, 21, 10]\n",
      "\n",
      "[15, 22, 1, 9, 15, 19, 6, 14, 9]\n",
      "\n",
      "[11, 10, 10, 27, 5, 15, 10, 25, 3]\n",
      "\n",
      "[5, 22, 11, 12, 15, 25, 5, 9, 14]\n",
      "\n",
      "[9, 14, 3, 28, 10, 13, 11, 11, 14]\n",
      "\n",
      "[13, 18, 15, 30, 1, 8, 8, 31, 7]\n",
      "\n"
     ]
    },
    {
     "ename": "KeyboardInterrupt",
     "evalue": "",
     "output_type": "error",
     "traceback": [
      "\u001b[0;31m---------------------------------------------------------------------------\u001b[0m",
      "\u001b[0;31mKeyboardInterrupt\u001b[0m                         Traceback (most recent call last)",
      "\u001b[0;32m/tmp/ipykernel_61880/3715598369.py\u001b[0m in \u001b[0;36m<module>\u001b[0;34m\u001b[0m\n\u001b[1;32m      2\u001b[0m     \u001b[0mprint\u001b[0m\u001b[0;34m(\u001b[0m\u001b[0mmaze\u001b[0m\u001b[0;34m)\u001b[0m\u001b[0;34m\u001b[0m\u001b[0;34m\u001b[0m\u001b[0m\n\u001b[1;32m      3\u001b[0m     \u001b[0mprint\u001b[0m\u001b[0;34m(\u001b[0m\u001b[0;34m)\u001b[0m\u001b[0;34m\u001b[0m\u001b[0;34m\u001b[0m\u001b[0m\n\u001b[0;32m----> 4\u001b[0;31m     \u001b[0msleep\u001b[0m\u001b[0;34m(\u001b[0m\u001b[0;36m1\u001b[0m\u001b[0;34m)\u001b[0m\u001b[0;34m\u001b[0m\u001b[0;34m\u001b[0m\u001b[0m\n\u001b[0m",
      "\u001b[0;31mKeyboardInterrupt\u001b[0m: "
     ]
    }
   ],
   "source": [
    "for maze in mazes:\n",
    "    print(convert_maze(maze))\n",
    "    print()\n",
    "    sleep(1)"
   ]
  },
  {
   "cell_type": "code",
   "execution_count": null,
   "id": "5c29aee6",
   "metadata": {},
   "outputs": [],
   "source": []
  }
 ],
 "metadata": {
  "kernelspec": {
   "display_name": "Python 3 (ipykernel)",
   "language": "python",
   "name": "python3"
  },
  "language_info": {
   "codemirror_mode": {
    "name": "ipython",
    "version": 3
   },
   "file_extension": ".py",
   "mimetype": "text/x-python",
   "name": "python",
   "nbconvert_exporter": "python",
   "pygments_lexer": "ipython3",
   "version": "3.9.7"
  }
 },
 "nbformat": 4,
 "nbformat_minor": 5
}
